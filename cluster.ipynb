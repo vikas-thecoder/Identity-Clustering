{
 "cells": [
  {
   "cell_type": "code",
   "execution_count": 1,
   "metadata": {},
   "outputs": [],
   "source": [
    "# import the necessary packages\n",
    "from sklearn.cluster import DBSCAN\n",
    "from imutils import build_montages\n",
    "import numpy as np\n",
    "import argparse\n",
    "import pickle\n",
    "import cv2\n",
    "import os\n",
    "\"\"\"\n",
    "# construct the argument parser and parse the arguments\n",
    "ap = argparse.ArgumentParser()\n",
    "ap.add_argument(\"-e\", \"--encodings\", required=True,\n",
    "\thelp=\"path to serialized db of facial encodings\")\n",
    "ap.add_argument(\"-j\", \"--jobs\", type=int, default=-1,\n",
    "\thelp=\"# of parallel jobs to run (-1 will use all CPUs)\")\n",
    "args = vars(ap.parse_args())\n",
    "\"\"\"\n",
    "\n",
    "args={'encodings':'encodings.pickle','jobs':-1}   "
   ]
  },
  {
   "cell_type": "code",
   "execution_count": 2,
   "metadata": {},
   "outputs": [
    {
     "name": "stdout",
     "output_type": "stream",
     "text": [
      "[INFO] loading encodings...\n"
     ]
    }
   ],
   "source": [
    "# load the serialized face encodings + bounding box locations from\n",
    "# disk, then extract the set of encodings to so we can cluster on\n",
    "# them\n",
    "print(\"[INFO] loading encodings...\")\n",
    "data = pickle.loads(open(args[\"encodings\"], \"rb\").read())\n",
    "data = np.array(data)\n",
    "encodings = [d[\"encoding\"] for d in data]\n"
   ]
  },
  {
   "cell_type": "code",
   "execution_count": 3,
   "metadata": {},
   "outputs": [
    {
     "name": "stdout",
     "output_type": "stream",
     "text": [
      "[INFO] clustering...\n"
     ]
    }
   ],
   "source": [
    "# cluster the embeddings\n",
    "print(\"[INFO] clustering...\")\n",
    "clt = DBSCAN(metric=\"euclidean\", n_jobs=args[\"jobs\"])\n",
    "clt.fit(encodings)\n",
    "labelIDs = np.unique(clt.labels_)"
   ]
  },
  {
   "cell_type": "code",
   "execution_count": 4,
   "metadata": {},
   "outputs": [
    {
     "name": "stdout",
     "output_type": "stream",
     "text": [
      "[INFO] # unique faces: 4\n"
     ]
    }
   ],
   "source": [
    "# determine the total number of unique faces found in the dataset\n",
    "\n",
    "numUniqueFaces = len(np.where(labelIDs > -1)[0])\n",
    "print(\"[INFO] # unique faces: {}\".format(numUniqueFaces))\n"
   ]
  },
  {
   "cell_type": "code",
   "execution_count": null,
   "metadata": {},
   "outputs": [],
   "source": [
    "for labelID in labelIDs:\n",
    "    target=os.path.join(\"Clusteredataset\",str(labelID))\n",
    "    os.makedirs(target)\n",
    "    idxs = np.where(clt.labels_ == labelID)[0]\n",
    "    i=1\n",
    "    for i in idxs:\n",
    "        image = cv2.imread(data[i][\"imagePath\"])\n",
    "        imgname=\"fig\"+str(i)+\".jpg\"\n",
    "        p=os.path.join(target,imgname)\n",
    "        i=i+1\n",
    "        cv2.imwrite(p,image)\n",
    "        "
   ]
  },
  {
   "cell_type": "code",
   "execution_count": 5,
   "metadata": {},
   "outputs": [
    {
     "name": "stdout",
     "output_type": "stream",
     "text": [
      "[INFO] faces for face ID: -1\n",
      "[INFO] faces for face ID: 0\n",
      "[INFO] faces for face ID: 1\n",
      "[INFO] faces for face ID: 2\n",
      "[INFO] faces for face ID: 3\n"
     ]
    }
   ],
   "source": [
    "# loop over the unique face integers\n",
    "for labelID in labelIDs:\n",
    "    # find all indexes into the `data` array that belong to the\n",
    "    # current label ID, then randomly sample a maximum of 25 indexes\n",
    "    # from the set\n",
    "   \n",
    "    print(\"[INFO] faces for face ID: {}\".format(labelID))\n",
    "    idxs = np.where(clt.labels_ == labelID)[0]\n",
    "    idxs = np.random.choice(idxs, size=min(25, len(idxs)),\n",
    "        replace=False)\n",
    "\n",
    "    # initialize the list of faces to include in the montage\n",
    "    faces = []\n",
    "\n",
    "    # loop over the sampled indexes\n",
    "    for i in idxs:\n",
    "        # load the input image and extract the face ROI\n",
    "        image = cv2.imread(data[i][\"imagePath\"])\n",
    "        (top, right, bottom, left) = data[i][\"loc\"]\n",
    "        face = image[top:bottom, left:right]\n",
    "\n",
    "        # force resize the face ROI to 96x96 and then add it to the\n",
    "        # faces montage list\n",
    "        face = cv2.resize(face, (96, 96))\n",
    "        faces.append(face)\n",
    "\n",
    "    # create a montage using 96x96 \"tiles\" with 5 rows and 5 columns\n",
    "    montage = build_montages(faces, (96, 96), (5, 5))[0]\n",
    "\n",
    "    # show the output montage\n",
    "    title = \"Face ID #{}\".format(labelID)\n",
    "    title = \"Unknown Faces\" if labelID == -1 else title\n",
    "    cv2.imshow(title, montage)\n",
    "    k=cv2.waitKey(0)\n",
    "    if k==ord(\"q\"):\n",
    "        break\n",
    "cv2.destroyAllWindows()"
   ]
  },
  {
   "cell_type": "code",
   "execution_count": null,
   "metadata": {},
   "outputs": [],
   "source": []
  }
 ],
 "metadata": {
  "kernelspec": {
   "display_name": "Python 3",
   "language": "python",
   "name": "python3"
  },
  "language_info": {
   "codemirror_mode": {
    "name": "ipython",
    "version": 3
   },
   "file_extension": ".py",
   "mimetype": "text/x-python",
   "name": "python",
   "nbconvert_exporter": "python",
   "pygments_lexer": "ipython3",
   "version": "3.6.9"
  }
 },
 "nbformat": 4,
 "nbformat_minor": 2
}
